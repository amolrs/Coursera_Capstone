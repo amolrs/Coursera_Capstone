{
 "cells": [
  {
   "cell_type": "markdown",
   "metadata": {},
   "source": [
    "# Python for Everybody\n",
    "Dr. Charles Severance, University of Michigan"
   ]
  },
  {
   "cell_type": "markdown",
   "metadata": {},
   "source": [
    "## Chapter Three: Conditional Code"
   ]
  },
  {
   "cell_type": "markdown",
   "metadata": {},
   "source": [
    "#### Ex 1: Compute pay given number of hours and hourly rate"
   ]
  },
  {
   "cell_type": "code",
   "execution_count": 24,
   "metadata": {},
   "outputs": [
    {
     "name": "stdout",
     "output_type": "stream",
     "text": [
      "Enter hours:35\n",
      "Enter rate:2.75\n",
      "Your pay is 96.25\n"
     ]
    }
   ],
   "source": [
    "hours = input(\"Enter hours:\")\n",
    "rate = input(\"Enter rate:\")\n",
    "pay = float(hours) * float(rate)\n",
    "print (\"Your pay is\", pay)"
   ]
  },
  {
   "cell_type": "markdown",
   "metadata": {},
   "source": [
    "#### Ex 2: Simple If Conditions combined with Print function"
   ]
  },
  {
   "cell_type": "code",
   "execution_count": 3,
   "metadata": {},
   "outputs": [
    {
     "name": "stdout",
     "output_type": "stream",
     "text": [
      "Before 5\n",
      "Is 5\n",
      "Whatever...\n",
      "Before 6\n",
      "After 6\n"
     ]
    }
   ],
   "source": [
    "x = 5\n",
    "print(\"Before 5\")\n",
    "if x == 5:\n",
    "    print (\"Is 5\")\n",
    "print (\"Whatever...\")\n",
    "if x < 6:\n",
    "    print (\"Before 6\")\n",
    "if x == 6:\n",
    "    print (\"Is 6\")\n",
    "    print (\"Still 6\")\n",
    "print (\"After 6\")"
   ]
  },
  {
   "cell_type": "markdown",
   "metadata": {},
   "source": [
    "#### Ex 3: Compute and print first i Hemchandra/Fibonacci numbers"
   ]
  },
  {
   "cell_type": "code",
   "execution_count": 1,
   "metadata": {},
   "outputs": [
    {
     "name": "stdout",
     "output_type": "stream",
     "text": [
      "1 1\n",
      "2 2\n",
      "3 3\n",
      "4 5\n",
      "5 8\n",
      "6 13\n",
      "7 21\n",
      "8 34\n",
      "9 55\n",
      "10 89\n",
      "First 10 Hemchandra/Fibonacci numbers printed.\n"
     ]
    }
   ],
   "source": [
    "n1 = 0; n2 = 1;\n",
    "\n",
    "for i in range(10):\n",
    "    n3 = n1+n2\n",
    "    print (i+1, n3)\n",
    "\n",
    "    # Reassign values\n",
    "    n1 = n2 \n",
    "    n2 = n3\n",
    "    \n",
    "print (\"First\", i+1, \"Hemchandra/Fibonacci numbers printed.\")"
   ]
  },
  {
   "cell_type": "markdown",
   "metadata": {},
   "source": [
    "#### Ex 4: Identify Income Tax slab based on income amount"
   ]
  },
  {
   "cell_type": "code",
   "execution_count": 52,
   "metadata": {},
   "outputs": [
    {
     "name": "stdout",
     "output_type": "stream",
     "text": [
      "Enter Income Amount:700000\n",
      "20%\n"
     ]
    }
   ],
   "source": [
    "income = float(input(\"Enter Income Amount:\"))\n",
    "    \n",
    "if income <= 250000:\n",
    "    slab = \"0%\"\n",
    "elif income <= 500000:\n",
    "    slab = \"5%\"\n",
    "elif income <= 1000000:\n",
    "    slab = \"20%\"\n",
    "else:\n",
    "    slab = \"30%\"\n",
    "    \n",
    "print (slab)"
   ]
  },
  {
   "cell_type": "markdown",
   "metadata": {},
   "source": [
    "#### Ex 5: Ex 4 with error trapping using Try-Except statements"
   ]
  },
  {
   "cell_type": "code",
   "execution_count": 54,
   "metadata": {},
   "outputs": [
    {
     "name": "stdout",
     "output_type": "stream",
     "text": [
      "Enter Income Amount:Rs.700000\n",
      "Invalid input\n"
     ]
    }
   ],
   "source": [
    "try:\n",
    "    income = float(input(\"Enter Income Amount:\"))\n",
    "\n",
    "    if income <= 250000:\n",
    "        slab = \"0%\"\n",
    "    elif income <= 500000:\n",
    "        slab = \"5%\"\n",
    "    elif income <= 1000000:\n",
    "        slab = \"20%\"\n",
    "    else:\n",
    "        slab = \"30%\"\n",
    "\n",
    "except:\n",
    "    slab = \"Invalid input\"\n",
    "    \n",
    "print (slab)"
   ]
  },
  {
   "cell_type": "markdown",
   "metadata": {},
   "source": [
    "###### Note: Ideally the Try-Except blocks should contain as few lines as possible, specifically only those line containing possibilities of a traceback."
   ]
  },
  {
   "cell_type": "markdown",
   "metadata": {},
   "source": [
    "So, Ex 5 can be improvised to look like this:"
   ]
  },
  {
   "cell_type": "code",
   "execution_count": 1,
   "metadata": {},
   "outputs": [
    {
     "name": "stdout",
     "output_type": "stream",
     "text": [
      "Enter Income Amount:Rs.7 lac\n",
      "Invalid input\n"
     ]
    }
   ],
   "source": [
    "try:\n",
    "    income = float(input(\"Enter Income Amount:\"))\n",
    "\n",
    "except:\n",
    "    income = -1\n",
    "\n",
    "if income < 0:\n",
    "    slab = \"Invalid input\"\n",
    "elif income <= 250000:\n",
    "    slab = \"0%\"\n",
    "elif income <= 500000:\n",
    "    slab = \"5%\"\n",
    "elif income <= 1000000:\n",
    "    slab = \"20%\"\n",
    "else:\n",
    "    slab = \"30%\"\n",
    "    \n",
    "print (slab)"
   ]
  },
  {
   "cell_type": "markdown",
   "metadata": {},
   "source": [
    "#### Ex 6: Actual Income-tax computation using If-Elif structure"
   ]
  },
  {
   "cell_type": "code",
   "execution_count": 1,
   "metadata": {},
   "outputs": [
    {
     "name": "stdout",
     "output_type": "stream",
     "text": [
      "Enter Net Taxable Income:650000\n",
      "Tax Liability: 42500.0\n"
     ]
    }
   ],
   "source": [
    "try:\n",
    "    income = int(input('Enter Net Taxable Income:'))\n",
    "    \n",
    "except:\n",
    "    income = -1\n",
    "    \n",
    "# Initializing the 'tax' variable with 0 to clear  value from a previous execution.\n",
    "tax = 0\n",
    "\n",
    "if income <0:\n",
    "    print('Invalid income value!')\n",
    "elif income <= 250000:\n",
    "    tax = 0\n",
    "elif income <= 500000:\n",
    "    tax = (income - 250000) * 0.05\n",
    "elif income <= 1000000:\n",
    "    tax = (income - 500000) * 0.20 + 12500\n",
    "else: \n",
    "    tax = (income - 1000000) * 0.30 + 112500\n",
    "\n",
    "print(\"Tax Liability:\", tax)"
   ]
  }
 ],
 "metadata": {
  "kernelspec": {
   "display_name": "Python 3",
   "language": "python",
   "name": "python3"
  },
  "language_info": {
   "codemirror_mode": {
    "name": "ipython",
    "version": 3
   },
   "file_extension": ".py",
   "mimetype": "text/x-python",
   "name": "python",
   "nbconvert_exporter": "python",
   "pygments_lexer": "ipython3",
   "version": "3.7.6"
  }
 },
 "nbformat": 4,
 "nbformat_minor": 4
}
