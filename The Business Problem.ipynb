{
 "cells": [
  {
   "cell_type": "markdown",
   "metadata": {},
   "source": [
    "## The Business Problem"
   ]
  },
  {
   "cell_type": "markdown",
   "metadata": {},
   "source": [
    "Companies that need to enter new geographies or increase penetration in existing geographies have to routinely address the problem of identifying locations for dealerships or sales outlets. While geographic gaps can easliy be identified on the map, the target locations should also have business potential for the company as represented by current market size, competitor sales, overall economic environment etc.\n",
    "\n",
    "In this project, we try address this problem for an auto/agri OEM by identifying locations for setting up new dealerships in the \n",
    "state of Maharashtra, India, where it is seeking to increase its market penetration."
   ]
  }
 ],
 "metadata": {
  "kernelspec": {
   "display_name": "Python 3",
   "language": "python",
   "name": "python3"
  },
  "language_info": {
   "codemirror_mode": {
    "name": "ipython",
    "version": 3
   },
   "file_extension": ".py",
   "mimetype": "text/x-python",
   "name": "python",
   "nbconvert_exporter": "python",
   "pygments_lexer": "ipython3",
   "version": "3.7.6"
  }
 },
 "nbformat": 4,
 "nbformat_minor": 4
}
