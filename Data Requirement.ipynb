{
 "cells": [
  {
   "cell_type": "markdown",
   "metadata": {},
   "source": [
    "## Data Requirement"
   ]
  },
  {
   "cell_type": "markdown",
   "metadata": {},
   "source": [
    "In this project, we try to address problem of identifying locations for an auto/agri OEM for setting up new dealerships in the state of Maharashtra, India, where it is seeking to increase its market penetration.\n",
    "\n",
    "The approach adopted for this is to collect data on the presence of a comparable competitor and shortlist locations where the competitor is present but the OEM is not. The OEM that is used for the project is John Deere. While John Deere already has a presence in Maharashtra, it needs to expand its dealership network within the state. For this, let's assume that it has decided to track the network of a local rival OEM like Mahindra who may have a bigger dealer network indicating where the market potential is. However, every location where Mahindra has a dealer may not result in business for John Deere. It would also need more data on other factors like, say, availability of banking facilities around the target location, income levels of the local population, wealth generation potential etc. For the purpose of this project the scope of data source is limited to the Foursquare API. However, it is understood that in practice, the OEM may have and use data on rival dealer sales, agricultural activity etc. which is not available on Foursquare API.\n",
    "\n",
    "Hence, the data that we will sift through is dealer locations of Mahindra, bank branches, business hotels, restaurants, and perhaps retail outlets, if any, and shortlist locations which have a rival dealer but no John Deere dealer, at least 2 banks, at least 1 business hotel, and if possible, a restaurant and retail outlets within a 10 km radius."
   ]
  }
 ],
 "metadata": {
  "kernelspec": {
   "display_name": "Python 3",
   "language": "python",
   "name": "python3"
  },
  "language_info": {
   "codemirror_mode": {
    "name": "ipython",
    "version": 3
   },
   "file_extension": ".py",
   "mimetype": "text/x-python",
   "name": "python",
   "nbconvert_exporter": "python",
   "pygments_lexer": "ipython3",
   "version": "3.7.6"
  }
 },
 "nbformat": 4,
 "nbformat_minor": 4
}
